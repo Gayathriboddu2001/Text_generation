{
 "cells": [
  {
   "cell_type": "code",
   "execution_count": 4,
   "id": "5c721710",
   "metadata": {},
   "outputs": [
    {
     "name": "stderr",
     "output_type": "stream",
     "text": [
      "[nltk_data] Downloading package stopwords to\n",
      "[nltk_data]     C:\\Users\\gayathriboddu\\AppData\\Roaming\\nltk_data...\n",
      "[nltk_data]   Unzipping corpora\\stopwords.zip.\n"
     ]
    }
   ],
   "source": [
    "import numpy\n",
    "import sys\n",
    "import nltk\n",
    "nltk.download('stopwords')\n",
    "from nltk.tokenize import RegexpTokenizer\n",
    "from nltk.corpus import stopwords\n",
    "from keras.models import Sequential\n",
    "from keras.utils import np_utils\n",
    "from keras.layers import Dense,Dropout,LSTM\n",
    "from keras.callbacks import ModelCheckpoint\n"
   ]
  },
  {
   "cell_type": "code",
   "execution_count": null,
   "id": "b9b0ca9f",
   "metadata": {},
   "outputs": [],
   "source": [
    "file=open(\"frankestein.txt\").read()"
   ]
  },
  {
   "cell_type": "code",
   "execution_count": null,
   "id": "475b9eac",
   "metadata": {},
   "outputs": [],
   "source": [
    "def tokenize_words(input):\n",
    "    input=input.lower()\n",
    "    tokenizer=RegexTokenizer(r'\\w+')\n",
    "    tokens=tokenizer.tokenize(input)\n",
    "    filtered=filter(lambda token:token not in stopwords.words('english'),tokens)\n",
    "    return \"\".join(filtered)\n",
    "processed_input=tokenize_words(file)\n",
    "    "
   ]
  },
  {
   "cell_type": "code",
   "execution_count": null,
   "id": "9394871f",
   "metadata": {},
   "outputs": [],
   "source": [
    "chars=sorted(list(set(processed_input)))\n",
    "chat_ro_num=dict(c,i) for i,c in enumerate(chars)\n",
    "\n"
   ]
  },
  {
   "cell_type": "code",
   "execution_count": null,
   "id": "b872316c",
   "metadata": {},
   "outputs": [],
   "source": [
    "input_len=len(processed_input)\n",
    "vocab_len=len(chars)\n",
    "print(\"Total number of characters:\",input_len)\n",
    "print(\"total vocab:\",vocab_len)\n"
   ]
  },
  {
   "cell_type": "code",
   "execution_count": null,
   "id": "534bca40",
   "metadata": {},
   "outputs": [],
   "source": [
    "seq_length=100\n",
    "x_data=[]\n",
    "y_data=[]\n"
   ]
  },
  {
   "cell_type": "code",
   "execution_count": null,
   "id": "5ecf707c",
   "metadata": {},
   "outputs": [],
   "source": [
    "for i in range(0,input_len-seq_length):\n",
    "    in_seq=processed_input[i:i +seq_length]\n",
    "    out_seq=processed_input[i + seq_length]\n",
    "    x_data.append([char_to_num[char] for char in in_seq])\n",
    "    y_data.append(char_to_num[out_seq])\n",
    "n_patterns=len(x_data)\n",
    "print(\"Total Pattern\",n_pattern)\n"
   ]
  },
  {
   "cell_type": "code",
   "execution_count": null,
   "id": "94168bcd",
   "metadata": {},
   "outputs": [],
   "source": [
    "X=numpy.reshape(x_data,(n_pattern,seq_length,1))\n",
    "X=X/float(vocab_len)\n",
    "\n"
   ]
  },
  {
   "cell_type": "code",
   "execution_count": null,
   "id": "b246e725",
   "metadata": {},
   "outputs": [],
   "source": [
    "y=np.utils.to_categorical(y_data)"
   ]
  },
  {
   "cell_type": "code",
   "execution_count": null,
   "id": "25c973ab",
   "metadata": {},
   "outputs": [],
   "source": [
    "model=Sequential()\n",
    "model.add(LSTM(256,input_shape=(X.shape[2]),return_sequences=True))\n",
    "model.add(Dropout(0.2))\n",
    "model.add(LSMT(128))\n",
    "model.add(Dropout(0.2))\n",
    "model.add(Dense(y.shape[1],activation='softmax'))\n"
   ]
  },
  {
   "cell_type": "code",
   "execution_count": null,
   "id": "a761c594",
   "metadata": {},
   "outputs": [],
   "source": [
    "model.compile(loss='categorical_crossentropy',optimizer='adam')"
   ]
  },
  {
   "cell_type": "code",
   "execution_count": null,
   "id": "80703094",
   "metadata": {},
   "outputs": [],
   "source": [
    "filepath=\"model_weight_saved.hdf5\"\n",
    "checkpoint=Modelcheckpoint(filepath,monitor='loss',verbose=1,save_best_only=True,mode='min')\n",
    "desired_callbacks=[checkpoint]\n"
   ]
  },
  {
   "cell_type": "code",
   "execution_count": null,
   "id": "e5d6b1d1",
   "metadata": {},
   "outputs": [],
   "source": [
    "filename=\"model_weights_saved.hdf5\"\n",
    "model.load_weights(filename)\n",
    "model.compile(loss='categorical_crossentropy',optimizer='adam')\n"
   ]
  },
  {
   "cell_type": "code",
   "execution_count": null,
   "id": "8673c256",
   "metadata": {},
   "outputs": [],
   "source": [
    "num_to_char=dict((i,c)for i,c in enumerate(chars))\n",
    "start=numpy.random.randint(0,len(x_data)-1)\n",
    "pattern(\"random seed:\")\n",
    "print(\"\\\".\".join([num_to_char[value] for value in pattern])\"\\\"\")\n",
    "\n"
   ]
  },
  {
   "cell_type": "code",
   "execution_count": null,
   "id": "3de78aea",
   "metadata": {},
   "outputs": [],
   "source": [
    "for i in range(1000):\n",
    "    x=numpy.reshape(pattern,(1,len(pattern),1))\n",
    "    x=xfloat(vocab_len)\n",
    "    prediction=model.predict(x,verbose=0)\n",
    "    index=numpy.argmax(prediction)\n",
    "    result=num_to_char[index]\n",
    "    seq_in=[num_to_char[value] for value in pattern]\n",
    "    sys.stdout.write(result)\n",
    "    pattern.append(index)\n",
    "    pattern=pattern[1:len(pattern)]\n",
    "    "
   ]
  },
  {
   "cell_type": "code",
   "execution_count": null,
   "id": "d0976940",
   "metadata": {},
   "outputs": [],
   "source": []
  }
 ],
 "metadata": {
  "kernelspec": {
   "display_name": "Python 3",
   "language": "python",
   "name": "python3"
  },
  "language_info": {
   "codemirror_mode": {
    "name": "ipython",
    "version": 3
   },
   "file_extension": ".py",
   "mimetype": "text/x-python",
   "name": "python",
   "nbconvert_exporter": "python",
   "pygments_lexer": "ipython3",
   "version": "3.8.8"
  }
 },
 "nbformat": 4,
 "nbformat_minor": 5
}
